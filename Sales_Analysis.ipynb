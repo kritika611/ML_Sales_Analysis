{
 "cells": [
  {
   "cell_type": "code",
   "execution_count": 23,
   "id": "aa2ffe9c",
   "metadata": {},
   "outputs": [],
   "source": [
    "import pandas as pd\n",
    "import seaborn as sns\n",
    "import matplotlib.pyplot as plt"
   ]
  },
  {
   "cell_type": "code",
   "execution_count": 24,
   "id": "e28ed498",
   "metadata": {},
   "outputs": [
    {
     "data": {
      "text/html": [
       "<div>\n",
       "<style scoped>\n",
       "    .dataframe tbody tr th:only-of-type {\n",
       "        vertical-align: middle;\n",
       "    }\n",
       "\n",
       "    .dataframe tbody tr th {\n",
       "        vertical-align: top;\n",
       "    }\n",
       "\n",
       "    .dataframe thead th {\n",
       "        text-align: right;\n",
       "    }\n",
       "</style>\n",
       "<table border=\"1\" class=\"dataframe\">\n",
       "  <thead>\n",
       "    <tr style=\"text-align: right;\">\n",
       "      <th></th>\n",
       "      <th>Date</th>\n",
       "      <th>Time</th>\n",
       "      <th>State</th>\n",
       "      <th>Group</th>\n",
       "      <th>Unit</th>\n",
       "      <th>Sales</th>\n",
       "    </tr>\n",
       "  </thead>\n",
       "  <tbody>\n",
       "    <tr>\n",
       "      <th>0</th>\n",
       "      <td>1-Oct-2020</td>\n",
       "      <td>Morning</td>\n",
       "      <td>WA</td>\n",
       "      <td>Kids</td>\n",
       "      <td>8</td>\n",
       "      <td>20000</td>\n",
       "    </tr>\n",
       "    <tr>\n",
       "      <th>1</th>\n",
       "      <td>1-Oct-2020</td>\n",
       "      <td>Morning</td>\n",
       "      <td>WA</td>\n",
       "      <td>Men</td>\n",
       "      <td>8</td>\n",
       "      <td>20000</td>\n",
       "    </tr>\n",
       "    <tr>\n",
       "      <th>2</th>\n",
       "      <td>1-Oct-2020</td>\n",
       "      <td>Morning</td>\n",
       "      <td>WA</td>\n",
       "      <td>Women</td>\n",
       "      <td>4</td>\n",
       "      <td>10000</td>\n",
       "    </tr>\n",
       "    <tr>\n",
       "      <th>3</th>\n",
       "      <td>1-Oct-2020</td>\n",
       "      <td>Morning</td>\n",
       "      <td>WA</td>\n",
       "      <td>Seniors</td>\n",
       "      <td>15</td>\n",
       "      <td>37500</td>\n",
       "    </tr>\n",
       "    <tr>\n",
       "      <th>4</th>\n",
       "      <td>1-Oct-2020</td>\n",
       "      <td>Afternoon</td>\n",
       "      <td>WA</td>\n",
       "      <td>Kids</td>\n",
       "      <td>3</td>\n",
       "      <td>7500</td>\n",
       "    </tr>\n",
       "  </tbody>\n",
       "</table>\n",
       "</div>"
      ],
      "text/plain": [
       "         Date        Time State     Group  Unit  Sales\n",
       "0  1-Oct-2020     Morning    WA      Kids     8  20000\n",
       "1  1-Oct-2020     Morning    WA       Men     8  20000\n",
       "2  1-Oct-2020     Morning    WA     Women     4  10000\n",
       "3  1-Oct-2020     Morning    WA   Seniors    15  37500\n",
       "4  1-Oct-2020   Afternoon    WA      Kids     3   7500"
      ]
     },
     "execution_count": 24,
     "metadata": {},
     "output_type": "execute_result"
    }
   ],
   "source": [
    "data=pd.read_csv('AusApparalSales4thQrt2020.csv')\n",
    "data.head()"
   ]
  },
  {
   "cell_type": "code",
   "execution_count": 25,
   "id": "016cd232",
   "metadata": {},
   "outputs": [
    {
     "name": "stdout",
     "output_type": "stream",
     "text": [
      "<class 'pandas.core.frame.DataFrame'>\n",
      "RangeIndex: 7560 entries, 0 to 7559\n",
      "Data columns (total 6 columns):\n",
      " #   Column  Non-Null Count  Dtype \n",
      "---  ------  --------------  ----- \n",
      " 0   Date    7560 non-null   object\n",
      " 1   Time    7560 non-null   object\n",
      " 2   State   7560 non-null   object\n",
      " 3   Group   7560 non-null   object\n",
      " 4   Unit    7560 non-null   int64 \n",
      " 5   Sales   7560 non-null   int64 \n",
      "dtypes: int64(2), object(4)\n",
      "memory usage: 354.5+ KB\n"
     ]
    }
   ],
   "source": [
    "data.info()"
   ]
  },
  {
   "cell_type": "code",
   "execution_count": 26,
   "id": "f7f3d149",
   "metadata": {},
   "outputs": [
    {
     "data": {
      "text/html": [
       "<div>\n",
       "<style scoped>\n",
       "    .dataframe tbody tr th:only-of-type {\n",
       "        vertical-align: middle;\n",
       "    }\n",
       "\n",
       "    .dataframe tbody tr th {\n",
       "        vertical-align: top;\n",
       "    }\n",
       "\n",
       "    .dataframe thead th {\n",
       "        text-align: right;\n",
       "    }\n",
       "</style>\n",
       "<table border=\"1\" class=\"dataframe\">\n",
       "  <thead>\n",
       "    <tr style=\"text-align: right;\">\n",
       "      <th></th>\n",
       "      <th>count</th>\n",
       "      <th>mean</th>\n",
       "      <th>std</th>\n",
       "      <th>min</th>\n",
       "      <th>25%</th>\n",
       "      <th>50%</th>\n",
       "      <th>75%</th>\n",
       "      <th>max</th>\n",
       "    </tr>\n",
       "  </thead>\n",
       "  <tbody>\n",
       "    <tr>\n",
       "      <th>Unit</th>\n",
       "      <td>7560.0</td>\n",
       "      <td>18.005423</td>\n",
       "      <td>12.901403</td>\n",
       "      <td>2.0</td>\n",
       "      <td>8.0</td>\n",
       "      <td>14.0</td>\n",
       "      <td>26.0</td>\n",
       "      <td>65.0</td>\n",
       "    </tr>\n",
       "    <tr>\n",
       "      <th>Sales</th>\n",
       "      <td>7560.0</td>\n",
       "      <td>45013.558201</td>\n",
       "      <td>32253.506944</td>\n",
       "      <td>5000.0</td>\n",
       "      <td>20000.0</td>\n",
       "      <td>35000.0</td>\n",
       "      <td>65000.0</td>\n",
       "      <td>162500.0</td>\n",
       "    </tr>\n",
       "  </tbody>\n",
       "</table>\n",
       "</div>"
      ],
      "text/plain": [
       "        count          mean           std     min      25%      50%      75%  \\\n",
       "Unit   7560.0     18.005423     12.901403     2.0      8.0     14.0     26.0   \n",
       "Sales  7560.0  45013.558201  32253.506944  5000.0  20000.0  35000.0  65000.0   \n",
       "\n",
       "            max  \n",
       "Unit       65.0  \n",
       "Sales  162500.0  "
      ]
     },
     "execution_count": 26,
     "metadata": {},
     "output_type": "execute_result"
    }
   ],
   "source": [
    "data.describe().T"
   ]
  },
  {
   "cell_type": "code",
   "execution_count": 57,
   "id": "5dc662e7",
   "metadata": {},
   "outputs": [
    {
     "name": "stdout",
     "output_type": "stream",
     "text": [
      "Date = ['1-Oct-2020' '2-Oct-2020' '3-Oct-2020' '4-Oct-2020' '5-Oct-2020'\n",
      " '6-Oct-2020' '7-Oct-2020' '8-Oct-2020' '9-Oct-2020' '10-Oct-2020'\n",
      " '11-Oct-2020' '12-Oct-2020' '13-Oct-2020' '14-Oct-2020' '15-Oct-2020'\n",
      " '16-Oct-2020' '17-Oct-2020' '18-Oct-2020' '19-Oct-2020' '20-Oct-2020'\n",
      " '21-Oct-2020' '22-Oct-2020' '23-Oct-2020' '24-Oct-2020' '25-Oct-2020'\n",
      " '26-Oct-2020' '27-Oct-2020' '28-Oct-2020' '29-Oct-2020' '30-Oct-2020'\n",
      " '1-Nov-2020' '2-Nov-2020' '3-Nov-2020' '4-Nov-2020' '5-Nov-2020'\n",
      " '6-Nov-2020' '7-Nov-2020' '8-Nov-2020' '9-Nov-2020' '10-Nov-2020'\n",
      " '11-Nov-2020' '12-Nov-2020' '13-Nov-2020' '14-Nov-2020' '15-Nov-2020'\n",
      " '16-Nov-2020' '17-Nov-2020' '18-Nov-2020' '19-Nov-2020' '20-Nov-2020'\n",
      " '21-Nov-2020' '22-Nov-2020' '23-Nov-2020' '24-Nov-2020' '25-Nov-2020'\n",
      " '26-Nov-2020' '27-Nov-2020' '28-Nov-2020' '29-Nov-2020' '30-Nov-2020'\n",
      " '1-Dec-2020' '2-Dec-2020' '3-Dec-2020' '4-Dec-2020' '5-Dec-2020'\n",
      " '6-Dec-2020' '7-Dec-2020' '8-Dec-2020' '9-Dec-2020' '10-Dec-2020'\n",
      " '11-Dec-2020' '12-Dec-2020' '13-Dec-2020' '14-Dec-2020' '15-Dec-2020'\n",
      " '16-Dec-2020' '17-Dec-2020' '18-Dec-2020' '19-Dec-2020' '20-Dec-2020'\n",
      " '21-Dec-2020' '22-Dec-2020' '23-Dec-2020' '24-Dec-2020' '25-Dec-2020'\n",
      " '26-Dec-2020' '27-Dec-2020' '28-Dec-2020' '29-Dec-2020' '30-Dec-2020']\n",
      "\n",
      "Time = [' Morning' ' Afternoon' ' Evening']\n",
      "\n",
      "State = [' WA' ' NT' ' SA' ' VIC' ' QLD' ' NSW' ' TAS']\n",
      "\n",
      "Group = [' Kids' ' Men' ' Women' ' Seniors']\n",
      "\n"
     ]
    }
   ],
   "source": [
    "for col in data.select_dtypes(include='object').columns:\n",
    "    print(col,\"=\",data[col].unique())\n",
    "    print()"
   ]
  },
  {
   "cell_type": "code",
   "execution_count": 58,
   "id": "8a499fbd",
   "metadata": {},
   "outputs": [
    {
     "name": "stdout",
     "output_type": "stream",
     "text": [
      "Unit = [ 8  4 15  3 10 11 13  5  6  9 14 12 16 28 21 29 22 32 49 36 34 26 31 27\n",
      " 43 50 44 20 18 19 39 17 23 40 30  7 33 42 46 48 37 25 35 45 47 38 41 24\n",
      "  2 51 63 62 52 56 59 64 53 61 54 60 55 65 57 58]\n",
      "\n",
      "Sales = [ 20000  10000  37500   7500  25000  27500  32500  12500  15000  22500\n",
      "  35000  30000  40000  70000  52500  72500  55000  80000 122500  90000\n",
      "  85000  65000  77500  67500 107500 125000 110000  50000  45000  47500\n",
      "  97500  42500  57500 100000  75000  17500  82500 105000 115000 120000\n",
      "  92500  62500  87500 112500 117500  95000 102500  60000   5000 127500\n",
      " 157500 155000 130000 140000 147500 160000 132500 152500 135000 150000\n",
      " 137500 162500 142500 145000]\n",
      "\n"
     ]
    }
   ],
   "source": [
    "for col in data.select_dtypes(include='int').columns:\n",
    "    print(col,\"=\",data[col].unique())\n",
    "    print()"
   ]
  },
  {
   "cell_type": "markdown",
   "id": "5c643e9c",
   "metadata": {},
   "source": [
    "# Data Wrangling"
   ]
  },
  {
   "cell_type": "code",
   "execution_count": 27,
   "id": "a7956151",
   "metadata": {},
   "outputs": [
    {
     "data": {
      "text/plain": [
       "Date     0\n",
       "Time     0\n",
       "State    0\n",
       "Group    0\n",
       "Unit     0\n",
       "Sales    0\n",
       "dtype: int64"
      ]
     },
     "execution_count": 27,
     "metadata": {},
     "output_type": "execute_result"
    }
   ],
   "source": [
    "data.isnull().sum()"
   ]
  },
  {
   "cell_type": "code",
   "execution_count": 28,
   "id": "fc9064ce",
   "metadata": {},
   "outputs": [
    {
     "data": {
      "text/plain": [
       "Series([], dtype: int64)"
      ]
     },
     "execution_count": 28,
     "metadata": {},
     "output_type": "execute_result"
    }
   ],
   "source": [
    "data.isnull().sum()[data.isnull().sum()>0]"
   ]
  },
  {
   "cell_type": "markdown",
   "id": "f4e7a0bf",
   "metadata": {},
   "source": [
    "# Scaling the data"
   ]
  },
  {
   "cell_type": "code",
   "execution_count": 29,
   "id": "fde295e3",
   "metadata": {},
   "outputs": [
    {
     "data": {
      "text/plain": [
       "Date     7560\n",
       "Time     7560\n",
       "State    7560\n",
       "Group    7560\n",
       "Unit     7560\n",
       "Sales    7560\n",
       "dtype: int64"
      ]
     },
     "execution_count": 29,
     "metadata": {},
     "output_type": "execute_result"
    }
   ],
   "source": [
    "data.count()"
   ]
  },
  {
   "cell_type": "code",
   "execution_count": 30,
   "id": "f2d0b655",
   "metadata": {},
   "outputs": [],
   "source": [
    "#from sklearn.preprocessing import MinMaxScaler"
   ]
  },
  {
   "cell_type": "code",
   "execution_count": 31,
   "id": "1d04e9d6",
   "metadata": {},
   "outputs": [],
   "source": [
    "#mms=MinMaxScaler()"
   ]
  },
  {
   "cell_type": "code",
   "execution_count": 47,
   "id": "02b0282f",
   "metadata": {},
   "outputs": [],
   "source": [
    "#data=mms.fit_transform(data)"
   ]
  },
  {
   "cell_type": "code",
   "execution_count": 33,
   "id": "13ae988a",
   "metadata": {},
   "outputs": [
    {
     "data": {
      "text/plain": [
       "Date     7560\n",
       "Time     7560\n",
       "State    7560\n",
       "Group    7560\n",
       "Unit     7560\n",
       "Sales    7560\n",
       "dtype: int64"
      ]
     },
     "execution_count": 33,
     "metadata": {},
     "output_type": "execute_result"
    }
   ],
   "source": [
    "data.count()"
   ]
  },
  {
   "cell_type": "markdown",
   "id": "24168d4d",
   "metadata": {},
   "source": [
    "### GroupBy()"
   ]
  },
  {
   "cell_type": "code",
   "execution_count": null,
   "id": "505a7910",
   "metadata": {},
   "outputs": [],
   "source": [
    "data.groupby('sex')['tip'].sum() #grouping by sex and tip"
   ]
  },
  {
   "cell_type": "code",
   "execution_count": null,
   "id": "c7ead54a",
   "metadata": {},
   "outputs": [],
   "source": [
    "data.groupby('size')['tip'].sum().plot(kind='bar')\n",
    "plt.show(\t)"
   ]
  },
  {
   "cell_type": "code",
   "execution_count": 35,
   "id": "a8daf91a",
   "metadata": {},
   "outputs": [
    {
     "data": {
      "text/html": [
       "<div>\n",
       "<style scoped>\n",
       "    .dataframe tbody tr th:only-of-type {\n",
       "        vertical-align: middle;\n",
       "    }\n",
       "\n",
       "    .dataframe tbody tr th {\n",
       "        vertical-align: top;\n",
       "    }\n",
       "\n",
       "    .dataframe thead th {\n",
       "        text-align: right;\n",
       "    }\n",
       "</style>\n",
       "<table border=\"1\" class=\"dataframe\">\n",
       "  <thead>\n",
       "    <tr style=\"text-align: right;\">\n",
       "      <th></th>\n",
       "      <th>Unit</th>\n",
       "      <th>Sales</th>\n",
       "    </tr>\n",
       "    <tr>\n",
       "      <th>Time</th>\n",
       "      <th></th>\n",
       "      <th></th>\n",
       "    </tr>\n",
       "  </thead>\n",
       "  <tbody>\n",
       "    <tr>\n",
       "      <th>Afternoon</th>\n",
       "      <td>45603</td>\n",
       "      <td>114007500</td>\n",
       "    </tr>\n",
       "    <tr>\n",
       "      <th>Evening</th>\n",
       "      <td>44835</td>\n",
       "      <td>112087500</td>\n",
       "    </tr>\n",
       "    <tr>\n",
       "      <th>Morning</th>\n",
       "      <td>45683</td>\n",
       "      <td>114207500</td>\n",
       "    </tr>\n",
       "  </tbody>\n",
       "</table>\n",
       "</div>"
      ],
      "text/plain": [
       "             Unit      Sales\n",
       "Time                        \n",
       " Afternoon  45603  114007500\n",
       " Evening    44835  112087500\n",
       " Morning    45683  114207500"
      ]
     },
     "execution_count": 35,
     "metadata": {},
     "output_type": "execute_result"
    }
   ],
   "source": [
    "data.groupby('Time').sum() #data grouping by time"
   ]
  },
  {
   "cell_type": "code",
   "execution_count": 36,
   "id": "c157f118",
   "metadata": {},
   "outputs": [
    {
     "data": {
      "text/html": [
       "<div>\n",
       "<style scoped>\n",
       "    .dataframe tbody tr th:only-of-type {\n",
       "        vertical-align: middle;\n",
       "    }\n",
       "\n",
       "    .dataframe tbody tr th {\n",
       "        vertical-align: top;\n",
       "    }\n",
       "\n",
       "    .dataframe thead th {\n",
       "        text-align: right;\n",
       "    }\n",
       "</style>\n",
       "<table border=\"1\" class=\"dataframe\">\n",
       "  <thead>\n",
       "    <tr style=\"text-align: right;\">\n",
       "      <th></th>\n",
       "      <th>Unit</th>\n",
       "      <th>Sales</th>\n",
       "    </tr>\n",
       "    <tr>\n",
       "      <th>State</th>\n",
       "      <th></th>\n",
       "      <th></th>\n",
       "    </tr>\n",
       "  </thead>\n",
       "  <tbody>\n",
       "    <tr>\n",
       "      <th>NSW</th>\n",
       "      <td>29988</td>\n",
       "      <td>74970000</td>\n",
       "    </tr>\n",
       "    <tr>\n",
       "      <th>NT</th>\n",
       "      <td>9032</td>\n",
       "      <td>22580000</td>\n",
       "    </tr>\n",
       "    <tr>\n",
       "      <th>QLD</th>\n",
       "      <td>13367</td>\n",
       "      <td>33417500</td>\n",
       "    </tr>\n",
       "    <tr>\n",
       "      <th>SA</th>\n",
       "      <td>23543</td>\n",
       "      <td>58857500</td>\n",
       "    </tr>\n",
       "    <tr>\n",
       "      <th>TAS</th>\n",
       "      <td>9104</td>\n",
       "      <td>22760000</td>\n",
       "    </tr>\n",
       "    <tr>\n",
       "      <th>VIC</th>\n",
       "      <td>42226</td>\n",
       "      <td>105565000</td>\n",
       "    </tr>\n",
       "    <tr>\n",
       "      <th>WA</th>\n",
       "      <td>8861</td>\n",
       "      <td>22152500</td>\n",
       "    </tr>\n",
       "  </tbody>\n",
       "</table>\n",
       "</div>"
      ],
      "text/plain": [
       "        Unit      Sales\n",
       "State                  \n",
       " NSW   29988   74970000\n",
       " NT     9032   22580000\n",
       " QLD   13367   33417500\n",
       " SA    23543   58857500\n",
       " TAS    9104   22760000\n",
       " VIC   42226  105565000\n",
       " WA     8861   22152500"
      ]
     },
     "execution_count": 36,
     "metadata": {},
     "output_type": "execute_result"
    }
   ],
   "source": [
    "data.groupby('State').sum() #data grouping by states"
   ]
  },
  {
   "cell_type": "code",
   "execution_count": 37,
   "id": "cafbdfca",
   "metadata": {},
   "outputs": [
    {
     "data": {
      "text/html": [
       "<div>\n",
       "<style scoped>\n",
       "    .dataframe tbody tr th:only-of-type {\n",
       "        vertical-align: middle;\n",
       "    }\n",
       "\n",
       "    .dataframe tbody tr th {\n",
       "        vertical-align: top;\n",
       "    }\n",
       "\n",
       "    .dataframe thead th {\n",
       "        text-align: right;\n",
       "    }\n",
       "</style>\n",
       "<table border=\"1\" class=\"dataframe\">\n",
       "  <thead>\n",
       "    <tr style=\"text-align: right;\">\n",
       "      <th></th>\n",
       "      <th>Unit</th>\n",
       "      <th>Sales</th>\n",
       "    </tr>\n",
       "    <tr>\n",
       "      <th>Group</th>\n",
       "      <th></th>\n",
       "      <th></th>\n",
       "    </tr>\n",
       "  </thead>\n",
       "  <tbody>\n",
       "    <tr>\n",
       "      <th>Kids</th>\n",
       "      <td>34029</td>\n",
       "      <td>85072500</td>\n",
       "    </tr>\n",
       "    <tr>\n",
       "      <th>Men</th>\n",
       "      <td>34300</td>\n",
       "      <td>85750000</td>\n",
       "    </tr>\n",
       "    <tr>\n",
       "      <th>Seniors</th>\n",
       "      <td>33615</td>\n",
       "      <td>84037500</td>\n",
       "    </tr>\n",
       "    <tr>\n",
       "      <th>Women</th>\n",
       "      <td>34177</td>\n",
       "      <td>85442500</td>\n",
       "    </tr>\n",
       "  </tbody>\n",
       "</table>\n",
       "</div>"
      ],
      "text/plain": [
       "           Unit     Sales\n",
       "Group                    \n",
       " Kids     34029  85072500\n",
       " Men      34300  85750000\n",
       " Seniors  33615  84037500\n",
       " Women    34177  85442500"
      ]
     },
     "execution_count": 37,
     "metadata": {},
     "output_type": "execute_result"
    }
   ],
   "source": [
    "data.groupby('Group').sum() #data with groups"
   ]
  },
  {
   "cell_type": "markdown",
   "id": "b932bb26",
   "metadata": {},
   "source": [
    "## Recommendations based on GroupBy() performed above"
   ]
  },
  {
   "cell_type": "code",
   "execution_count": null,
   "id": "6f7cf5a4",
   "metadata": {},
   "outputs": [],
   "source": [
    "# Highest shopping was done by Men\n",
    "# Peak time for shopping was Morning\n",
    "# Most shopping was done in State VIC\n",
    "#Lowest shopping was done in Evening by Seniors in State NT"
   ]
  },
  {
   "cell_type": "markdown",
   "id": "e76f6d57",
   "metadata": {},
   "source": [
    "# Data Analysis"
   ]
  },
  {
   "cell_type": "code",
   "execution_count": null,
   "id": "cace7ab8",
   "metadata": {},
   "outputs": [],
   "source": [
    "#mean()"
   ]
  },
  {
   "cell_type": "code",
   "execution_count": 41,
   "id": "108a4aa4",
   "metadata": {},
   "outputs": [
    {
     "data": {
      "text/plain": [
       "45013.5582010582"
      ]
     },
     "execution_count": 41,
     "metadata": {},
     "output_type": "execute_result"
    }
   ],
   "source": [
    "data.Sales.mean()#box plot to be used"
   ]
  },
  {
   "cell_type": "code",
   "execution_count": null,
   "id": "8f61cbce",
   "metadata": {},
   "outputs": [],
   "source": [
    "print(df.age.mean())\n",
    "df.age.plot(kind=\"bar\")"
   ]
  },
  {
   "cell_type": "code",
   "execution_count": 42,
   "id": "8ae9f6c2",
   "metadata": {},
   "outputs": [
    {
     "data": {
      "text/plain": [
       "18.00542328042328"
      ]
     },
     "execution_count": 42,
     "metadata": {},
     "output_type": "execute_result"
    }
   ],
   "source": [
    "data.Unit.mean()"
   ]
  },
  {
   "cell_type": "code",
   "execution_count": null,
   "id": "5e3cfa6e",
   "metadata": {},
   "outputs": [],
   "source": [
    "#mode()"
   ]
  },
  {
   "cell_type": "code",
   "execution_count": 43,
   "id": "1c1d10fb",
   "metadata": {},
   "outputs": [
    {
     "data": {
      "text/plain": [
       "0    22500\n",
       "Name: Sales, dtype: int64"
      ]
     },
     "execution_count": 43,
     "metadata": {},
     "output_type": "execute_result"
    }
   ],
   "source": [
    "data.Sales.mode()"
   ]
  },
  {
   "cell_type": "code",
   "execution_count": 44,
   "id": "0a4d8bc0",
   "metadata": {},
   "outputs": [
    {
     "data": {
      "text/plain": [
       "0    9\n",
       "Name: Unit, dtype: int64"
      ]
     },
     "execution_count": 44,
     "metadata": {},
     "output_type": "execute_result"
    }
   ],
   "source": [
    "data.Unit.mode()"
   ]
  },
  {
   "cell_type": "markdown",
   "id": "86f7fc36",
   "metadata": {},
   "source": [
    "### Highest and lowest Sales"
   ]
  },
  {
   "cell_type": "code",
   "execution_count": 52,
   "id": "60efd5e7",
   "metadata": {},
   "outputs": [
    {
     "data": {
      "text/html": [
       "<div>\n",
       "<style scoped>\n",
       "    .dataframe tbody tr th:only-of-type {\n",
       "        vertical-align: middle;\n",
       "    }\n",
       "\n",
       "    .dataframe tbody tr th {\n",
       "        vertical-align: top;\n",
       "    }\n",
       "\n",
       "    .dataframe thead th {\n",
       "        text-align: right;\n",
       "    }\n",
       "</style>\n",
       "<table border=\"1\" class=\"dataframe\">\n",
       "  <thead>\n",
       "    <tr style=\"text-align: right;\">\n",
       "      <th></th>\n",
       "      <th>Unit</th>\n",
       "      <th>Sales</th>\n",
       "    </tr>\n",
       "    <tr>\n",
       "      <th>Time</th>\n",
       "      <th></th>\n",
       "      <th></th>\n",
       "    </tr>\n",
       "  </thead>\n",
       "  <tbody>\n",
       "    <tr>\n",
       "      <th>Afternoon</th>\n",
       "      <td>45603</td>\n",
       "      <td>114007500</td>\n",
       "    </tr>\n",
       "    <tr>\n",
       "      <th>Evening</th>\n",
       "      <td>44835</td>\n",
       "      <td>112087500</td>\n",
       "    </tr>\n",
       "    <tr>\n",
       "      <th>Morning</th>\n",
       "      <td>45683</td>\n",
       "      <td>114207500</td>\n",
       "    </tr>\n",
       "  </tbody>\n",
       "</table>\n",
       "</div>"
      ],
      "text/plain": [
       "             Unit      Sales\n",
       "Time                        \n",
       " Afternoon  45603  114007500\n",
       " Evening    44835  112087500\n",
       " Morning    45683  114207500"
      ]
     },
     "execution_count": 52,
     "metadata": {},
     "output_type": "execute_result"
    }
   ],
   "source": [
    "data.groupby('Time').sum()"
   ]
  },
  {
   "cell_type": "code",
   "execution_count": 53,
   "id": "800207fa",
   "metadata": {},
   "outputs": [
    {
     "data": {
      "text/html": [
       "<div>\n",
       "<style scoped>\n",
       "    .dataframe tbody tr th:only-of-type {\n",
       "        vertical-align: middle;\n",
       "    }\n",
       "\n",
       "    .dataframe tbody tr th {\n",
       "        vertical-align: top;\n",
       "    }\n",
       "\n",
       "    .dataframe thead th {\n",
       "        text-align: right;\n",
       "    }\n",
       "</style>\n",
       "<table border=\"1\" class=\"dataframe\">\n",
       "  <thead>\n",
       "    <tr style=\"text-align: right;\">\n",
       "      <th></th>\n",
       "      <th>Unit</th>\n",
       "      <th>Sales</th>\n",
       "    </tr>\n",
       "    <tr>\n",
       "      <th>Group</th>\n",
       "      <th></th>\n",
       "      <th></th>\n",
       "    </tr>\n",
       "  </thead>\n",
       "  <tbody>\n",
       "    <tr>\n",
       "      <th>Kids</th>\n",
       "      <td>34029</td>\n",
       "      <td>85072500</td>\n",
       "    </tr>\n",
       "    <tr>\n",
       "      <th>Men</th>\n",
       "      <td>34300</td>\n",
       "      <td>85750000</td>\n",
       "    </tr>\n",
       "    <tr>\n",
       "      <th>Seniors</th>\n",
       "      <td>33615</td>\n",
       "      <td>84037500</td>\n",
       "    </tr>\n",
       "    <tr>\n",
       "      <th>Women</th>\n",
       "      <td>34177</td>\n",
       "      <td>85442500</td>\n",
       "    </tr>\n",
       "  </tbody>\n",
       "</table>\n",
       "</div>"
      ],
      "text/plain": [
       "           Unit     Sales\n",
       "Group                    \n",
       " Kids     34029  85072500\n",
       " Men      34300  85750000\n",
       " Seniors  33615  84037500\n",
       " Women    34177  85442500"
      ]
     },
     "execution_count": 53,
     "metadata": {},
     "output_type": "execute_result"
    }
   ],
   "source": [
    "data.groupby('Group').sum()"
   ]
  },
  {
   "cell_type": "code",
   "execution_count": 54,
   "id": "e6070bfb",
   "metadata": {},
   "outputs": [
    {
     "data": {
      "text/html": [
       "<div>\n",
       "<style scoped>\n",
       "    .dataframe tbody tr th:only-of-type {\n",
       "        vertical-align: middle;\n",
       "    }\n",
       "\n",
       "    .dataframe tbody tr th {\n",
       "        vertical-align: top;\n",
       "    }\n",
       "\n",
       "    .dataframe thead th {\n",
       "        text-align: right;\n",
       "    }\n",
       "</style>\n",
       "<table border=\"1\" class=\"dataframe\">\n",
       "  <thead>\n",
       "    <tr style=\"text-align: right;\">\n",
       "      <th></th>\n",
       "      <th>Unit</th>\n",
       "      <th>Sales</th>\n",
       "    </tr>\n",
       "    <tr>\n",
       "      <th>State</th>\n",
       "      <th></th>\n",
       "      <th></th>\n",
       "    </tr>\n",
       "  </thead>\n",
       "  <tbody>\n",
       "    <tr>\n",
       "      <th>NSW</th>\n",
       "      <td>29988</td>\n",
       "      <td>74970000</td>\n",
       "    </tr>\n",
       "    <tr>\n",
       "      <th>NT</th>\n",
       "      <td>9032</td>\n",
       "      <td>22580000</td>\n",
       "    </tr>\n",
       "    <tr>\n",
       "      <th>QLD</th>\n",
       "      <td>13367</td>\n",
       "      <td>33417500</td>\n",
       "    </tr>\n",
       "    <tr>\n",
       "      <th>SA</th>\n",
       "      <td>23543</td>\n",
       "      <td>58857500</td>\n",
       "    </tr>\n",
       "    <tr>\n",
       "      <th>TAS</th>\n",
       "      <td>9104</td>\n",
       "      <td>22760000</td>\n",
       "    </tr>\n",
       "    <tr>\n",
       "      <th>VIC</th>\n",
       "      <td>42226</td>\n",
       "      <td>105565000</td>\n",
       "    </tr>\n",
       "    <tr>\n",
       "      <th>WA</th>\n",
       "      <td>8861</td>\n",
       "      <td>22152500</td>\n",
       "    </tr>\n",
       "  </tbody>\n",
       "</table>\n",
       "</div>"
      ],
      "text/plain": [
       "        Unit      Sales\n",
       "State                  \n",
       " NSW   29988   74970000\n",
       " NT     9032   22580000\n",
       " QLD   13367   33417500\n",
       " SA    23543   58857500\n",
       " TAS    9104   22760000\n",
       " VIC   42226  105565000\n",
       " WA     8861   22152500"
      ]
     },
     "execution_count": 54,
     "metadata": {},
     "output_type": "execute_result"
    }
   ],
   "source": [
    "data.groupby('State').sum()"
   ]
  },
  {
   "cell_type": "code",
   "execution_count": null,
   "id": "6bd18303",
   "metadata": {},
   "outputs": [],
   "source": [
    "# sale was highest in the morning and men shop the most in VIC state\n",
    "#sale was lowest in the evening by seniors in state NT"
   ]
  },
  {
   "cell_type": "code",
   "execution_count": null,
   "id": "4f6d6daf",
   "metadata": {},
   "outputs": [],
   "source": []
  },
  {
   "cell_type": "markdown",
   "id": "536d13de",
   "metadata": {},
   "source": [
    "# Reports on Weekly, Monthly and Quaterly basis"
   ]
  },
  {
   "cell_type": "code",
   "execution_count": 89,
   "id": "52bdce59",
   "metadata": {},
   "outputs": [
    {
     "data": {
      "text/html": [
       "<div>\n",
       "<style scoped>\n",
       "    .dataframe tbody tr th:only-of-type {\n",
       "        vertical-align: middle;\n",
       "    }\n",
       "\n",
       "    .dataframe tbody tr th {\n",
       "        vertical-align: top;\n",
       "    }\n",
       "\n",
       "    .dataframe thead th {\n",
       "        text-align: right;\n",
       "    }\n",
       "</style>\n",
       "<table border=\"1\" class=\"dataframe\">\n",
       "  <thead>\n",
       "    <tr style=\"text-align: right;\">\n",
       "      <th></th>\n",
       "      <th>Date</th>\n",
       "      <th>Time</th>\n",
       "      <th>State</th>\n",
       "      <th>Group</th>\n",
       "      <th>Unit</th>\n",
       "      <th>Sales</th>\n",
       "    </tr>\n",
       "  </thead>\n",
       "  <tbody>\n",
       "    <tr>\n",
       "      <th>0</th>\n",
       "      <td>1-Oct-2020</td>\n",
       "      <td>Morning</td>\n",
       "      <td>WA</td>\n",
       "      <td>Kids</td>\n",
       "      <td>8</td>\n",
       "      <td>20000</td>\n",
       "    </tr>\n",
       "    <tr>\n",
       "      <th>1</th>\n",
       "      <td>1-Oct-2020</td>\n",
       "      <td>Morning</td>\n",
       "      <td>WA</td>\n",
       "      <td>Men</td>\n",
       "      <td>8</td>\n",
       "      <td>20000</td>\n",
       "    </tr>\n",
       "    <tr>\n",
       "      <th>2</th>\n",
       "      <td>1-Oct-2020</td>\n",
       "      <td>Morning</td>\n",
       "      <td>WA</td>\n",
       "      <td>Women</td>\n",
       "      <td>4</td>\n",
       "      <td>10000</td>\n",
       "    </tr>\n",
       "    <tr>\n",
       "      <th>3</th>\n",
       "      <td>1-Oct-2020</td>\n",
       "      <td>Morning</td>\n",
       "      <td>WA</td>\n",
       "      <td>Seniors</td>\n",
       "      <td>15</td>\n",
       "      <td>37500</td>\n",
       "    </tr>\n",
       "    <tr>\n",
       "      <th>4</th>\n",
       "      <td>1-Oct-2020</td>\n",
       "      <td>Afternoon</td>\n",
       "      <td>WA</td>\n",
       "      <td>Kids</td>\n",
       "      <td>3</td>\n",
       "      <td>7500</td>\n",
       "    </tr>\n",
       "  </tbody>\n",
       "</table>\n",
       "</div>"
      ],
      "text/plain": [
       "         Date        Time State     Group  Unit  Sales\n",
       "0  1-Oct-2020     Morning    WA      Kids     8  20000\n",
       "1  1-Oct-2020     Morning    WA       Men     8  20000\n",
       "2  1-Oct-2020     Morning    WA     Women     4  10000\n",
       "3  1-Oct-2020     Morning    WA   Seniors    15  37500\n",
       "4  1-Oct-2020   Afternoon    WA      Kids     3   7500"
      ]
     },
     "execution_count": 89,
     "metadata": {},
     "output_type": "execute_result"
    }
   ],
   "source": [
    "import pandas as pd\n",
    "data_1=pd.read_csv(\"AusApparalSales4thQrt2020.csv\")\n",
    "data_1.head()"
   ]
  },
  {
   "cell_type": "code",
   "execution_count": 91,
   "id": "8aa455b2",
   "metadata": {},
   "outputs": [],
   "source": [
    "data_1.Date = pd.to_datetime(data_1.Date)\n",
    "#df1 = df.resample('M', on='Date').sum()"
   ]
  },
  {
   "cell_type": "code",
   "execution_count": 92,
   "id": "2c17bf55",
   "metadata": {},
   "outputs": [],
   "source": [
    "df1 = data_1.resample('W', on='Date').sum()#weekly data"
   ]
  },
  {
   "cell_type": "code",
   "execution_count": 94,
   "id": "d46604ee",
   "metadata": {},
   "outputs": [
    {
     "data": {
      "text/html": [
       "<div>\n",
       "<style scoped>\n",
       "    .dataframe tbody tr th:only-of-type {\n",
       "        vertical-align: middle;\n",
       "    }\n",
       "\n",
       "    .dataframe tbody tr th {\n",
       "        vertical-align: top;\n",
       "    }\n",
       "\n",
       "    .dataframe thead th {\n",
       "        text-align: right;\n",
       "    }\n",
       "</style>\n",
       "<table border=\"1\" class=\"dataframe\">\n",
       "  <thead>\n",
       "    <tr style=\"text-align: right;\">\n",
       "      <th></th>\n",
       "      <th>Unit</th>\n",
       "      <th>Sales</th>\n",
       "    </tr>\n",
       "    <tr>\n",
       "      <th>Date</th>\n",
       "      <th></th>\n",
       "      <th></th>\n",
       "    </tr>\n",
       "  </thead>\n",
       "  <tbody>\n",
       "    <tr>\n",
       "      <th>2020-10-04</th>\n",
       "      <td>6018</td>\n",
       "      <td>15045000</td>\n",
       "    </tr>\n",
       "    <tr>\n",
       "      <th>2020-10-11</th>\n",
       "      <td>10801</td>\n",
       "      <td>27002500</td>\n",
       "    </tr>\n",
       "    <tr>\n",
       "      <th>2020-10-18</th>\n",
       "      <td>10656</td>\n",
       "      <td>26640000</td>\n",
       "    </tr>\n",
       "    <tr>\n",
       "      <th>2020-10-25</th>\n",
       "      <td>10726</td>\n",
       "      <td>26815000</td>\n",
       "    </tr>\n",
       "    <tr>\n",
       "      <th>2020-11-01</th>\n",
       "      <td>8723</td>\n",
       "      <td>21807500</td>\n",
       "    </tr>\n",
       "    <tr>\n",
       "      <th>2020-11-08</th>\n",
       "      <td>8346</td>\n",
       "      <td>20865000</td>\n",
       "    </tr>\n",
       "    <tr>\n",
       "      <th>2020-11-15</th>\n",
       "      <td>8469</td>\n",
       "      <td>21172500</td>\n",
       "    </tr>\n",
       "    <tr>\n",
       "      <th>2020-11-22</th>\n",
       "      <td>8445</td>\n",
       "      <td>21112500</td>\n",
       "    </tr>\n",
       "    <tr>\n",
       "      <th>2020-11-29</th>\n",
       "      <td>8591</td>\n",
       "      <td>21477500</td>\n",
       "    </tr>\n",
       "    <tr>\n",
       "      <th>2020-12-06</th>\n",
       "      <td>11849</td>\n",
       "      <td>29622500</td>\n",
       "    </tr>\n",
       "    <tr>\n",
       "      <th>2020-12-13</th>\n",
       "      <td>12610</td>\n",
       "      <td>31525000</td>\n",
       "    </tr>\n",
       "    <tr>\n",
       "      <th>2020-12-20</th>\n",
       "      <td>12662</td>\n",
       "      <td>31655000</td>\n",
       "    </tr>\n",
       "    <tr>\n",
       "      <th>2020-12-27</th>\n",
       "      <td>12708</td>\n",
       "      <td>31770000</td>\n",
       "    </tr>\n",
       "    <tr>\n",
       "      <th>2021-01-03</th>\n",
       "      <td>5517</td>\n",
       "      <td>13792500</td>\n",
       "    </tr>\n",
       "  </tbody>\n",
       "</table>\n",
       "</div>"
      ],
      "text/plain": [
       "             Unit     Sales\n",
       "Date                       \n",
       "2020-10-04   6018  15045000\n",
       "2020-10-11  10801  27002500\n",
       "2020-10-18  10656  26640000\n",
       "2020-10-25  10726  26815000\n",
       "2020-11-01   8723  21807500\n",
       "2020-11-08   8346  20865000\n",
       "2020-11-15   8469  21172500\n",
       "2020-11-22   8445  21112500\n",
       "2020-11-29   8591  21477500\n",
       "2020-12-06  11849  29622500\n",
       "2020-12-13  12610  31525000\n",
       "2020-12-20  12662  31655000\n",
       "2020-12-27  12708  31770000\n",
       "2021-01-03   5517  13792500"
      ]
     },
     "execution_count": 94,
     "metadata": {},
     "output_type": "execute_result"
    }
   ],
   "source": [
    "df1"
   ]
  },
  {
   "cell_type": "code",
   "execution_count": 95,
   "id": "f5f8df88",
   "metadata": {},
   "outputs": [],
   "source": [
    "df1 = data_1.resample('M', on='Date').sum()#monthly data"
   ]
  },
  {
   "cell_type": "code",
   "execution_count": 96,
   "id": "49633b8e",
   "metadata": {},
   "outputs": [
    {
     "data": {
      "text/html": [
       "<div>\n",
       "<style scoped>\n",
       "    .dataframe tbody tr th:only-of-type {\n",
       "        vertical-align: middle;\n",
       "    }\n",
       "\n",
       "    .dataframe tbody tr th {\n",
       "        vertical-align: top;\n",
       "    }\n",
       "\n",
       "    .dataframe thead th {\n",
       "        text-align: right;\n",
       "    }\n",
       "</style>\n",
       "<table border=\"1\" class=\"dataframe\">\n",
       "  <thead>\n",
       "    <tr style=\"text-align: right;\">\n",
       "      <th></th>\n",
       "      <th>Unit</th>\n",
       "      <th>Sales</th>\n",
       "    </tr>\n",
       "    <tr>\n",
       "      <th>Date</th>\n",
       "      <th></th>\n",
       "      <th></th>\n",
       "    </tr>\n",
       "  </thead>\n",
       "  <tbody>\n",
       "    <tr>\n",
       "      <th>2020-10-31</th>\n",
       "      <td>45716</td>\n",
       "      <td>114290000</td>\n",
       "    </tr>\n",
       "    <tr>\n",
       "      <th>2020-11-30</th>\n",
       "      <td>36273</td>\n",
       "      <td>90682500</td>\n",
       "    </tr>\n",
       "    <tr>\n",
       "      <th>2020-12-31</th>\n",
       "      <td>54132</td>\n",
       "      <td>135330000</td>\n",
       "    </tr>\n",
       "  </tbody>\n",
       "</table>\n",
       "</div>"
      ],
      "text/plain": [
       "             Unit      Sales\n",
       "Date                        \n",
       "2020-10-31  45716  114290000\n",
       "2020-11-30  36273   90682500\n",
       "2020-12-31  54132  135330000"
      ]
     },
     "execution_count": 96,
     "metadata": {},
     "output_type": "execute_result"
    }
   ],
   "source": [
    "df1"
   ]
  },
  {
   "cell_type": "code",
   "execution_count": 97,
   "id": "ab3fadfd",
   "metadata": {},
   "outputs": [],
   "source": [
    "df1 = data_1.resample('Q', on='Date').sum()#quarterly data"
   ]
  },
  {
   "cell_type": "code",
   "execution_count": 98,
   "id": "12484f53",
   "metadata": {},
   "outputs": [
    {
     "data": {
      "text/html": [
       "<div>\n",
       "<style scoped>\n",
       "    .dataframe tbody tr th:only-of-type {\n",
       "        vertical-align: middle;\n",
       "    }\n",
       "\n",
       "    .dataframe tbody tr th {\n",
       "        vertical-align: top;\n",
       "    }\n",
       "\n",
       "    .dataframe thead th {\n",
       "        text-align: right;\n",
       "    }\n",
       "</style>\n",
       "<table border=\"1\" class=\"dataframe\">\n",
       "  <thead>\n",
       "    <tr style=\"text-align: right;\">\n",
       "      <th></th>\n",
       "      <th>Unit</th>\n",
       "      <th>Sales</th>\n",
       "    </tr>\n",
       "    <tr>\n",
       "      <th>Date</th>\n",
       "      <th></th>\n",
       "      <th></th>\n",
       "    </tr>\n",
       "  </thead>\n",
       "  <tbody>\n",
       "    <tr>\n",
       "      <th>2020-12-31</th>\n",
       "      <td>136121</td>\n",
       "      <td>340302500</td>\n",
       "    </tr>\n",
       "  </tbody>\n",
       "</table>\n",
       "</div>"
      ],
      "text/plain": [
       "              Unit      Sales\n",
       "Date                         \n",
       "2020-12-31  136121  340302500"
      ]
     },
     "execution_count": 98,
     "metadata": {},
     "output_type": "execute_result"
    }
   ],
   "source": [
    "df1"
   ]
  },
  {
   "cell_type": "code",
   "execution_count": null,
   "id": "23cc04ea",
   "metadata": {},
   "outputs": [],
   "source": [
    "#highest sale happened in the month of December during the christmas and New year celebration\n",
    "#week #27 December - New year makes the most sales"
   ]
  },
  {
   "cell_type": "markdown",
   "id": "5d6e049c",
   "metadata": {},
   "source": [
    "# Data Visualization"
   ]
  },
  {
   "cell_type": "code",
   "execution_count": 63,
   "id": "c1b759a3",
   "metadata": {},
   "outputs": [
    {
     "data": {
      "image/png": "[encoded data removed]",
      "text/plain": [
       "<Figure size 432x288 with 1 Axes>"
      ]
     },
     "metadata": {
      "needs_background": "light"
     },
     "output_type": "display_data"
    }
   ],
   "source": [
    "sns.barplot(x='Sales',y='Unit', data=data)\n",
    "\n",
    "plt.show()"
   ]
  },
  {
   "cell_type": "code",
   "execution_count": 66,
   "id": "e80bfcbe",
   "metadata": {},
   "outputs": [
    {
     "data": {
      "image/png": "[encoded data removed]",
      "text/plain": [
       "<Figure size 432x288 with 1 Axes>"
      ]
     },
     "metadata": {
      "needs_background": "light"
     },
     "output_type": "display_data"
    }
   ],
   "source": [
    "sns.barplot(x='State', y='Sales',hue='Group', data=data, estimator=sum)\n",
    "\n",
    "plt.show()"
   ]
  },
  {
   "cell_type": "code",
   "execution_count": null,
   "id": "e526fb14",
   "metadata": {},
   "outputs": [],
   "source": [
    "#the above graph shows that the highest sale made in state VIC and lowest was in NT"
   ]
  },
  {
   "cell_type": "code",
   "execution_count": null,
   "id": "a5124092",
   "metadata": {},
   "outputs": [],
   "source": []
  },
  {
   "cell_type": "code",
   "execution_count": 71,
   "id": "eb176a8a",
   "metadata": {},
   "outputs": [
    {
     "data": {
      "image/png": "[encoded data removed]",
      "text/plain": [
       "<Figure size 432x288 with 1 Axes>"
      ]
     },
     "metadata": {
      "needs_background": "light"
     },
     "output_type": "display_data"
    }
   ],
   "source": [
    "sns.barplot(x='Group',y='Sales',data=data)\n",
    "plt.show()"
   ]
  },
  {
   "cell_type": "code",
   "execution_count": 74,
   "id": "6c6d1aa2",
   "metadata": {},
   "outputs": [
    {
     "data": {
      "image/png": "[encoded data removed]",
      "text/plain": [
       "<Figure size 432x288 with 1 Axes>"
      ]
     },
     "metadata": {
      "needs_background": "light"
     },
     "output_type": "display_data"
    }
   ],
   "source": [
    "sns.barplot(x='Time',y='Sales',hue='Group',data=data)\n",
    "plt.show()"
   ]
  },
  {
   "cell_type": "code",
   "execution_count": null,
   "id": "ef1a218b",
   "metadata": {},
   "outputs": [],
   "source": [
    "#most of the sales made in morning by Men\n",
    "# lowest sales made in evening by Seniors"
   ]
  },
  {
   "cell_type": "markdown",
   "id": "c7721df6",
   "metadata": {},
   "source": [
    "### Peak and OFFPeak Sales"
   ]
  },
  {
   "cell_type": "code",
   "execution_count": 76,
   "id": "83eaa71a",
   "metadata": {},
   "outputs": [
    {
     "data": {
      "image/png": "[encoded data removed]",
      "text/plain": [
       "<Figure size 432x288 with 1 Axes>"
      ]
     },
     "metadata": {
      "needs_background": "light"
     },
     "output_type": "display_data"
    }
   ],
   "source": [
    "data.groupby('Time')['Sales'].sum().plot(kind='bar')\n",
    "plt.show(\t)"
   ]
  },
  {
   "cell_type": "code",
   "execution_count": 77,
   "id": "fed21422",
   "metadata": {},
   "outputs": [
    {
     "data": {
      "image/png": "[encoded data removed]",
      "text/plain": [
       "<Figure size 432x288 with 1 Axes>"
      ]
     },
     "metadata": {
      "needs_background": "light"
     },
     "output_type": "display_data"
    }
   ],
   "source": [
    "sns.barplot(x='Time',y='Sales',hue='Group',data=data)\n",
    "plt.show()"
   ]
  },
  {
   "cell_type": "code",
   "execution_count": null,
   "id": "99a57b20",
   "metadata": {},
   "outputs": [],
   "source": [
    "# morning was the peak while evening was off peak"
   ]
  },
  {
   "cell_type": "code",
   "execution_count": 88,
   "id": "dc923c88",
   "metadata": {},
   "outputs": [
    {
     "data": {
      "image/png": "[encoded data removed]",
      "text/plain": [
       "<Figure size 432x288 with 1 Axes>"
      ]
     },
     "metadata": {
      "needs_background": "light"
     },
     "output_type": "display_data"
    }
   ],
   "source": [
    "sns.barplot(x='Time',y='Sales',data=data)\n",
    "plt.show()"
   ]
  },
  {
   "cell_type": "markdown",
   "id": "3a9ed0df",
   "metadata": {},
   "source": [
    "# Report on the above data"
   ]
  },
  {
   "cell_type": "code",
   "execution_count": null,
   "id": "6ac13aeb",
   "metadata": {},
   "outputs": [],
   "source": [
    "# sale was highest in the morning and men shop the most in VIC state\n",
    "#sale was lowest in the evening by seniors in state NT\n",
    "#highest sale happened in the month of December during the christmas and New year week \n",
    "#week #27 December - New year week makes the most sales"
   ]
  }
 ],
 "metadata": {
  "kernelspec": {
   "display_name": "Python 3 (ipykernel)",
   "language": "python",
   "name": "python3"
  },
  "language_info": {
   "codemirror_mode": {
    "name": "ipython",
    "version": 3
   },
   "file_extension": ".py",
   "mimetype": "text/x-python",
   "name": "python",
   "nbconvert_exporter": "python",
   "pygments_lexer": "ipython3",
   "version": "3.9.12"
  }
 },
 "nbformat": 4,
 "nbformat_minor": 5
}
